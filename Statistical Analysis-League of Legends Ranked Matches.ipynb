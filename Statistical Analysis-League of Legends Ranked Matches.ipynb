{
 "cells": [
  {
   "cell_type": "markdown",
   "metadata": {},
   "source": [
    "![Heimerdinger](heimer.jpg)\n",
    "\n",
    "# <font color=red>Project Overview: </font> \n",
    "## This project is a review of my <mark><font color=red>mathematical statistics</font></mark> knowledge applied on <font color=blue>Py</font><font color=gold>thon</font>. The following is the topic that will be covered for this project:\n",
    "    \n",
    "### <mark><font color=red>Student's T-Test</font> : Both Paired and Independent Samples</mark>\n",
    "\n",
    "----\n",
    "<img src=\"lol.logo.png\" width=\"300\">\n",
    "\n",
    "### **I will run the Student's T-Test by drawing game data from the online game [League of Legends](https://na.leagueoflegends.com/en/).**\n",
    "\n",
    "### **Okay...So what really is League of Legends?**\n",
    "\n",
    "> - League of Legends or 'LoL' is an **online multiplayer battle game** played by ten players.\n",
    "- Each player assumes the role of a **\"summoner\"** and controls a **\"champion\"** with unique abilities and battles against a team of other player (teams of 5). \n",
    "- The **ultimate goal** of the game is to **destroy opposing team's 'Nexus'**, a structure that lies at the heart of opposing team's base, protected by defensive structures. ([Thank you Wikipedia](https://en.wikipedia.org/wiki/League_of_Legends))\n",
    "\n",
    "<img src=\"nexus.jpg\" width=\"300\">\n",
    "<font color=steelblue><center>(A screenshot of 'Nexus' from LoL)</center></font>\n",
    "\n",
    "### **I see... So what about destroying 'Nexus' and all that jazz? How does this relate to statistical analysis?**\n",
    "\n",
    "> - I will be drawing game data from each of the matches to evaluate/analyze players' performance. \n",
    "- In each match, a player either takes the role of a Support/Jungle/Marksman/Mage/Bruiser. \n",
    "    - Think of soccer: Defender/Attacker/Midfield/Goldkeeper\n",
    "- The following are the parameters that can be used to evaluate a player's performance:\n",
    "    - Amount of gold earned\n",
    "    - Number of kills/assists/deaths\n",
    "    - Amount of damage dealt\n",
    "    - Amount of damage taken\n",
    "    - Amount healed\n",
    "    - Amount shielded\n",
    "    - Win rate using a specific 'champion'\n",
    "\n",
    "### **Okay, I think I kind of get where you are heading to.**\n",
    "\n",
    "> Great! Without furthert ado, let's get started! <font color=goldenrod>\"Time for a true display of skill!\"</font> - Ezreal from LoL\n",
    "\n",
    "<img src=\"ezreal.jpg\" width = \"300\">"
   ]
  },
  {
   "cell_type": "markdown",
   "metadata": {},
   "source": [
    "## Import Libraries"
   ]
  },
  {
   "cell_type": "code",
   "execution_count": 3,
   "metadata": {},
   "outputs": [],
   "source": [
    "import os \n",
    "import pandas as pd\n",
    "import numpy as np\n",
    "import json\n",
    "import ast\n",
    "from riotwatcher import RiotWatcher, ApiError\n",
    "from scipy import stats\n",
    "\n",
    "#os.getcwd()"
   ]
  },
  {
   "cell_type": "markdown",
   "metadata": {},
   "source": [
    "## Loading data using Riot Watcher\n",
    "\n",
    " - Instead of importing a dataset, I will be drawing data whenever I need them.\n",
    " - In doing so, I will be using the [Riot watcher](https://riot-watcher.readthedocs.io/en/latest/) library.\n",
    " - Riotwatcher is a library that helps the user query game data from the [RiotAPI](https://developer.riotgames.com/) webpage."
   ]
  },
  {
   "cell_type": "code",
   "execution_count": 6,
   "metadata": {},
   "outputs": [],
   "source": [
    "#API Key\n",
    "watcher = RiotWatcher('RGAPI-568275af-33d9-42b6-978e-67969d4b231b')\n",
    "\n",
    "#Region ID\n",
    "region = 'na1'\n",
    "\n",
    "#My encrypted Account ID\n",
    "encryptid = 'm5KVVioihtcxmsslMF2jV7MYk9zt8Y4w_01UKogZVMt42Fg'"
   ]
  },
  {
   "cell_type": "markdown",
   "metadata": {},
   "source": [
    "# 1. Student's T-Test (Paired population, Independent population)\n",
    "## a. Paired Population\n",
    "#### Before we proceed to testing, it is important to note the assumptions of the Paired t-test:\n",
    "\n",
    "#### <font color=green>Assumptions:</font> \n",
    "- <font color=green>Data are normally distributed or large sample if we do not have normality (i.e. $n\\geq 30$)</font>\n",
    "- <font color=green>Differences in data are independent (i.e. Differences in Random variables $X_i$ and $Y_i$:  $D_i = X_i - Y_i$)</font>\n",
    "\n",
    "#### Other than the assumptions, we also need to verify if the data are paired:\n",
    "- **Definition of Paired:**  *Every member of a sample A is uniquely linked in a logical and non-random way to a particular member of sample B.*\n",
    "\n",
    "<img src=\"klepto-coin.png\" width=\"100\">\n",
    "\n",
    "### Here, I am going to test <font color=red>the average gold difference between two champions</font> that I play for any two ranked matches.\n",
    "\n",
    "### <mark><font color=red>$H_0$ (null hypothesis): the average gold earned per match between two champions are different.</font></mark>\n",
    "----\n",
    "<img src=\"ezreal-match-stats.png\" width=\"400\">\n",
    "<font color=steelblue><center>Player stat from a match: includes items bought, kills/assist/deaths made and gold earned and etc...</center></font>\n",
    "\n",
    "#### Why gold?\n",
    "- Whenever a player makes a kill or an assist, he/she receives a gold based on the bounty on the enemy champion that has been killed.\n",
    "- The player can then spend gold at the item shop to buy items that makes the champion grow stronger.\n",
    "- Most winning teams have **higher** average team gold compared to the losing teams.\n",
    "- **More gold** means **stronger** champions, which could potentially lead to winning a match.\n",
    "\n",
    "#### Which Champions?\n",
    "- The two champions that I will be comparing will be **Karma** and **Thresh**.\n",
    "- These two are the champions that I played most in the 2019 season.\n",
    "- They are both **support** roles.\n",
    "    - (*They assist/help marksman champions at the bottome lane*).\n",
    "- Since both champions were played by me, I argue that the average gold differences are paired.\n",
    "    - (*both champions were played by the same player*).\n",
    "\n",
    "*<font color=red>If any of the assumptions above is violated, we proceed to the Wilcoxon Signed-rank Test.</font>*\n",
    "\n",
    "*<font color=red>The following data is based on solo ranked/flex ranked matches.</font>*\n",
    "\n",
    "<img src=\"karma.icon.png\" width=\"75\"><img src=\"thresh.icon.png\" width=\"75\">\n",
    "<font color=steelblue><center>Karma (above) and Thresh (below)</center></font>"
   ]
  },
  {
   "cell_type": "code",
   "execution_count": 7,
   "metadata": {},
   "outputs": [],
   "source": [
    "# 420 = 5x5 ranked solo match\n",
    "# 440 = 5x5 ranked flex match\n",
    "\n",
    "# Retrieve data for matches with Karma\n",
    "# Champion id for Karma = 43\n",
    "karma_id = 43\n",
    "ranked_solo = 420\n",
    "matchlist_karma = watcher.match.matchlist_by_account(region, encryptid, champion = karma_id, queue = ranked_solo)\n",
    "\n",
    "# Retrieve data for matches with Thresh\n",
    "# Champion id for Thresh = 412\n",
    "thresh_id = 412\n",
    "ranked_flex = 440\n",
    "matchlist_thresh = watcher.match.matchlist_by_account(region, encryptid, champion = thresh_id, queue = ranked_flex)"
   ]
  },
  {
   "cell_type": "markdown",
   "metadata": {},
   "source": [
    "### Loading all match ID's for Thresh and Karma\n",
    "\n",
    "- Via Riotwatcher and Riot API, I can load up all the game match id's for a given champion.\n",
    "- I will load up all the match id's for my Karma and Thresh matches.\n",
    "- By doing this, I can also find the *<font color=red>amount of gold earned</font>* for each of the matches."
   ]
  },
  {
   "cell_type": "code",
   "execution_count": 8,
   "metadata": {
    "scrolled": true
   },
   "outputs": [
    {
     "name": "stdout",
     "output_type": "stream",
     "text": [
      "List of match ID's for Thresh are : ['3036116463', '3036046576', '3036017944', '3035996332', '3035922681', '3019768948', '3009763453', '3009013200', '3008368936', '3006968239', '3006970350', '2694439761']\n",
      "Total number of Thresh matches are : 12\n"
     ]
    }
   ],
   "source": [
    "# Create an empty list for Thresh match id's\n",
    "match_id = []\n",
    "\n",
    "# loop to create a list of matchId's for Thresh\n",
    "for match in matchlist_thresh['matches']:\n",
    "    match_id.append(str(match['gameId']))\n",
    "\n",
    "print(\"List of match ID's for Thresh are :\", match_id)\n",
    "print(\"Total number of Thresh matches are :\", len(match_id))"
   ]
  },
  {
   "cell_type": "code",
   "execution_count": 9,
   "metadata": {},
   "outputs": [
    {
     "name": "stdout",
     "output_type": "stream",
     "text": [
      "Number of wins with Thresh is : 7 times out of  12 matches\n"
     ]
    }
   ],
   "source": [
    "#Create an empty list for Thresh match datum\n",
    "Thresh_matches = []\n",
    "\n",
    "#Loop to fill up bin Thresh match datum\n",
    "for i in match_id:\n",
    "    Thresh_matches.append(watcher.match.by_id(region, i))\n",
    "\n",
    "#empty list for Thresh match result info\n",
    "thresh_result = []\n",
    "\n",
    "#loop to sort out 'participant' info for every match\n",
    "for match in Thresh_matches:\n",
    "    thresh_result += match['participants']\n",
    "    \n",
    "#loop to count the number of wins for every match\n",
    "a = 0\n",
    "for wins in thresh_result:\n",
    "    if wins['championId'] == 412 and wins['stats']['win'] == True:\n",
    "        a += 1\n",
    "print(\"Number of wins with Thresh is :\", a, \"times out of \", len(match_id), \"matches\")"
   ]
  },
  {
   "cell_type": "code",
   "execution_count": 10,
   "metadata": {},
   "outputs": [
    {
     "name": "stdout",
     "output_type": "stream",
     "text": [
      "List of match ID's are : ['3069417888', '3069407311', '3061324707', '3061285880', '3055384505', '3055345620', '3055247388', '3055030958', '3055013745', '3053910218', '3053862098', '3053837232', '3049626592', '3049589430', '3049558998', '3049535592', '3049508860', '3049468926', '3049248241', '3047573556', '3046590817', '3046228682', '3046213680', '3046186021', '3040256699', '3040153770', '3040126689', '3036825085', '2691744214', '2691713596']\n",
      "Total number Karma of matches are : 30\n"
     ]
    }
   ],
   "source": [
    "#loop to create a list of matchId's for Karma\n",
    "match_id = []\n",
    "for match in matchlist_karma['matches']:\n",
    "    match_id.append(str(match['gameId']))\n",
    "    \n",
    "print(\"List of match ID's are :\", match_id)\n",
    "print(\"Total number Karma of matches are :\", len(match_id))"
   ]
  },
  {
   "cell_type": "code",
   "execution_count": 11,
   "metadata": {},
   "outputs": [
    {
     "name": "stdout",
     "output_type": "stream",
     "text": [
      "Number of wins with Karma is : 15 times out of 30 matches\n"
     ]
    }
   ],
   "source": [
    "#Create an empty list for Karma match datum\n",
    "karma_matches = []\n",
    "\n",
    "#Loop to bin Karma match datum\n",
    "for i in match_id:\n",
    "    karma_matches.append(watcher.match.by_id(region, i))\n",
    "    \n",
    "#loop to sort out 'participant' info for every match\n",
    "karma_result = []\n",
    "for match in karma_matches:\n",
    "    karma_result += match['participants']\n",
    "\n",
    "#loop to count the number of wins for every match\n",
    "a = 0\n",
    "for wins in karma_result:\n",
    "    if wins['championId'] == 43 and wins['stats']['win'] == True:\n",
    "        a = a + 1\n",
    "print(\"Number of wins with Karma is :\", a, \"times out of\", len(match_id), \"matches\")"
   ]
  },
  {
   "cell_type": "markdown",
   "metadata": {},
   "source": [
    "*<font color=red>I am going to keep the winrate for each of the champions aside and move on to paired population testing for now as these results might be useful in making conclusions with the test results, i.e. t-test.</font>*"
   ]
  },
  {
   "cell_type": "markdown",
   "metadata": {},
   "source": [
    "### Sampling"
   ]
  },
  {
   "cell_type": "code",
   "execution_count": 21,
   "metadata": {},
   "outputs": [
    {
     "name": "stdout",
     "output_type": "stream",
     "text": [
      "[7407, 4986, 11596, 6944, 10531, 7710, 7196, 7133, 8085, 8136, 8346, 9737, 6988, 8319, 11943, 10050, 5183, 9312, 10679, 5853, 6397, 5766, 11597, 10424, 4816, 6549, 10107, 9603, 11195, 11676]\n",
      "**************************************************\n",
      "**************************************************\n",
      "Number of Karma matches sampled is : 30\n"
     ]
    }
   ],
   "source": [
    "#loop to bin gold earned per match for Karma matches\n",
    "karma_gold_earned = []\n",
    "for gold in karma_result:\n",
    "    if gold['championId'] == 43 and gold['stats']['goldEarned']:\n",
    "        karma_gold_earned.append(gold['stats']['goldEarned'])\n",
    "\n",
    "print(karma_gold_earned)\n",
    "print(\"*\"*50)\n",
    "print(\"*\"*50)\n",
    "print(\"Number of Karma matches sampled is :\", len(karma_gold_earned))"
   ]
  },
  {
   "cell_type": "markdown",
   "metadata": {},
   "source": [
    "*<font color=red>We have 30 samples of gold earned per match for Karma matches.</font>*"
   ]
  },
  {
   "cell_type": "code",
   "execution_count": 22,
   "metadata": {},
   "outputs": [
    {
     "name": "stdout",
     "output_type": "stream",
     "text": [
      "[8377, 4568, 7146, 10617, 8400, 12160, 6312, 4036, 10333, 5895, 4957, 12260]\n",
      "**************************************************\n",
      "**************************************************\n",
      "Number of Karma matches sampled is : 12\n"
     ]
    }
   ],
   "source": [
    "#loop to bin gold earned per match for Thresh matches\n",
    "thresh_gold_earned = []\n",
    "for gold in thresh_result:\n",
    "    if gold['championId'] == 412 and gold['stats']['goldEarned']:\n",
    "        thresh_gold_earned.append(gold['stats']['goldEarned'])\n",
    "\n",
    "print(thresh_gold_earned)\n",
    "print(\"*\"*50)\n",
    "print(\"*\"*50)\n",
    "print(\"Number of Karma matches sampled is :\", len(thresh_gold_earned))"
   ]
  },
  {
   "cell_type": "markdown",
   "metadata": {},
   "source": [
    "*<font color=red>We have 12 samples of gold earned per match for Thresh matches.</font>*\n",
    "\n",
    "**Since sample sizes differ, we draw 12 random samples from 30 samples of Karma gold earned per match.**"
   ]
  },
  {
   "cell_type": "code",
   "execution_count": 49,
   "metadata": {},
   "outputs": [
    {
     "name": "stdout",
     "output_type": "stream",
     "text": [
      "[6944, 8319, 8319, 8346, 11943, 7407, 5853, 11597, 9737, 6944, 11676, 7133]\n",
      "Number of new sample is : 12\n"
     ]
    }
   ],
   "source": [
    "#import library and set random seed\n",
    "import random \n",
    "np.random.seed(2019)\n",
    "\n",
    "karma_gold_earned_new = random.choices(karma_gold_earned, k = 12)\n",
    "print(karma_gold_earned_new)\n",
    "print(\"Number of new sample is :\", len(karma_gold_earned_new))"
   ]
  },
  {
   "cell_type": "code",
   "execution_count": 50,
   "metadata": {},
   "outputs": [
    {
     "data": {
      "text/html": [
       "<div>\n",
       "<style scoped>\n",
       "    .dataframe tbody tr th:only-of-type {\n",
       "        vertical-align: middle;\n",
       "    }\n",
       "\n",
       "    .dataframe tbody tr th {\n",
       "        vertical-align: top;\n",
       "    }\n",
       "\n",
       "    .dataframe thead th {\n",
       "        text-align: right;\n",
       "    }\n",
       "</style>\n",
       "<table border=\"1\" class=\"dataframe\">\n",
       "  <thead>\n",
       "    <tr style=\"text-align: right;\">\n",
       "      <th></th>\n",
       "      <th>Thresh Gold Earned</th>\n",
       "      <th>Karma Gold Earned</th>\n",
       "    </tr>\n",
       "  </thead>\n",
       "  <tbody>\n",
       "    <tr>\n",
       "      <th>0</th>\n",
       "      <td>8377</td>\n",
       "      <td>6944</td>\n",
       "    </tr>\n",
       "    <tr>\n",
       "      <th>1</th>\n",
       "      <td>4568</td>\n",
       "      <td>8319</td>\n",
       "    </tr>\n",
       "    <tr>\n",
       "      <th>2</th>\n",
       "      <td>7146</td>\n",
       "      <td>8319</td>\n",
       "    </tr>\n",
       "    <tr>\n",
       "      <th>3</th>\n",
       "      <td>10617</td>\n",
       "      <td>8346</td>\n",
       "    </tr>\n",
       "    <tr>\n",
       "      <th>4</th>\n",
       "      <td>8400</td>\n",
       "      <td>11943</td>\n",
       "    </tr>\n",
       "    <tr>\n",
       "      <th>5</th>\n",
       "      <td>12160</td>\n",
       "      <td>7407</td>\n",
       "    </tr>\n",
       "    <tr>\n",
       "      <th>6</th>\n",
       "      <td>6312</td>\n",
       "      <td>5853</td>\n",
       "    </tr>\n",
       "    <tr>\n",
       "      <th>7</th>\n",
       "      <td>4036</td>\n",
       "      <td>11597</td>\n",
       "    </tr>\n",
       "    <tr>\n",
       "      <th>8</th>\n",
       "      <td>10333</td>\n",
       "      <td>9737</td>\n",
       "    </tr>\n",
       "    <tr>\n",
       "      <th>9</th>\n",
       "      <td>5895</td>\n",
       "      <td>6944</td>\n",
       "    </tr>\n",
       "    <tr>\n",
       "      <th>10</th>\n",
       "      <td>4957</td>\n",
       "      <td>11676</td>\n",
       "    </tr>\n",
       "    <tr>\n",
       "      <th>11</th>\n",
       "      <td>12260</td>\n",
       "      <td>7133</td>\n",
       "    </tr>\n",
       "  </tbody>\n",
       "</table>\n",
       "</div>"
      ],
      "text/plain": [
       "    Thresh Gold Earned  Karma Gold Earned\n",
       "0                 8377               6944\n",
       "1                 4568               8319\n",
       "2                 7146               8319\n",
       "3                10617               8346\n",
       "4                 8400              11943\n",
       "5                12160               7407\n",
       "6                 6312               5853\n",
       "7                 4036              11597\n",
       "8                10333               9737\n",
       "9                 5895               6944\n",
       "10                4957              11676\n",
       "11               12260               7133"
      ]
     },
     "execution_count": 50,
     "metadata": {},
     "output_type": "execute_result"
    }
   ],
   "source": [
    "#combine Thresh and Karma data into a DataFrame\n",
    "data = {'Thresh Gold Earned': thresh_gold_earned, 'Karma Gold Earned' : karma_gold_earned_new}\n",
    "data = pd.DataFrame(data = data)\n",
    "#data = data.transpose()\n",
    "data"
   ]
  },
  {
   "cell_type": "markdown",
   "metadata": {},
   "source": [
    "### Check for assumptions"
   ]
  },
  {
   "cell_type": "code",
   "execution_count": 51,
   "metadata": {
    "scrolled": false
   },
   "outputs": [
    {
     "data": {
      "image/png": "[encoded data removed]",
      "text/plain": [
       "<Figure size 432x288 with 1 Axes>"
      ]
     },
     "metadata": {},
     "output_type": "display_data"
    }
   ],
   "source": [
    "#import library\n",
    "import seaborn as sns\n",
    "from matplotlib import pyplot as plt\n",
    "\n",
    "#plt.subplots(ncols =2)\n",
    "sns.set(style=\"whitegrid\")\n",
    "ax1 = sns.boxplot(data = data)\n",
    "ax1.set_title(\"Boxplot of amount of gold earned (Thresh vs. Karma)\", fontsize = 18);"
   ]
  },
  {
   "cell_type": "code",
   "execution_count": 52,
   "metadata": {
    "scrolled": true
   },
   "outputs": [
    {
     "data": {
      "image/png": "[encoded data removed]",
      "text/plain": [
       "<Figure size 432x288 with 1 Axes>"
      ]
     },
     "metadata": {},
     "output_type": "display_data"
    }
   ],
   "source": [
    "#Take Difference of the two data\n",
    "data_diff = data['Thresh Gold Earned'] - data['Karma Gold Earned']\n",
    "\n",
    "#Plot histogram of the differences \n",
    "ax = plt.hist(data_diff, bins = 10, density= True)\n",
    "plt.title(\"Histogram of the differences in gold earend (Thresh vs. Karma)\", fontsize = 18);\n",
    "\n",
    "sns.kdeplot(data_diff)\n",
    "plt.show();"
   ]
  },
  {
   "cell_type": "markdown",
   "metadata": {},
   "source": [
    "### <font color=red>We see from the histogram above that the data is roughly normal!</font>"
   ]
  },
  {
   "cell_type": "code",
   "execution_count": 53,
   "metadata": {
    "scrolled": true
   },
   "outputs": [
    {
     "data": {
      "image/png": "[encoded data removed]",
      "text/plain": [
       "<Figure size 432x288 with 1 Axes>"
      ]
     },
     "metadata": {},
     "output_type": "display_data"
    }
   ],
   "source": [
    "#Plot Q-Q plot\n",
    "stats.probplot(data_diff, plot = plt);\n",
    "plt.title('Q-Q plot of the differences in gold earned', fontsize = 15);"
   ]
  },
  {
   "cell_type": "markdown",
   "metadata": {},
   "source": [
    "### <font color=red>For further insight, the Q-Q plot above shows that the data are roughly close to the red line, as they are not very far away from the red line. Hence we conclude that the data is roughly normal and proceed to the paired t-test.</font>"
   ]
  },
  {
   "cell_type": "code",
   "execution_count": 54,
   "metadata": {},
   "outputs": [
    {
     "name": "stdout",
     "output_type": "stream",
     "text": [
      "p-value is : 0.528090913655154 and the test-statistic is : -0.6515152155681763\n"
     ]
    }
   ],
   "source": [
    "#Conduct Paired t-test\n",
    "stats.ttest_rel(data['Thresh Gold Earned'], data['Karma Gold Earned'])\n",
    "x = stats.ttest_rel(data['Thresh Gold Earned'], data['Karma Gold Earned'])\n",
    "\n",
    "print(\"p-value is :\", x[1], \"and the test-statistic is :\", x[0])"
   ]
  },
  {
   "cell_type": "markdown",
   "metadata": {},
   "source": [
    "### <font color=red>Insights:</font>\n",
    "   - We see that the **p-value is too big**, so we **fail to reject the null hypothesis**. Therefore **<font color=red>we conclude that the average gold earned per match between two champions are equal</font>**.\n",
    "   - Before making further conclusions, it is important to note that these randomly selected matches include **both the winning and losing games**.\n",
    "   - I would also like to emphasize that this result **cannot be generalized into all** of the Karma and Thresh ranked matches. Since all of the matches were played by the same player, i.e. me, all I can devise from this result is that <mark>**when I play LoL, the average amount of gold earned per match for Karma and Thresh are equal, rather than being different**</mark>.\n",
    "   - It would be more interesting to find more about the gold difference between two winning matches with different champions or one losing, one winning matches with different champions and so on. I will go further and analyze such cases later as we go on.\n",
    "   - Nevertheless, based on the result, I say that **the average gold earned is roughly equal for ranked games between Karma and Thresh!** \n",
    "\n",
    "### <font color=red>A Step further...</font>\n",
    "- The findings based on the result above may be a little disappointing as one might expect that Karma and Thresh function differently even if they are both support role champions.\n",
    "    - About the roles of Thresh and Karma: \n",
    "         - Thresh is a support champion that **grabs enemies with hooks** so other teammate champions can deal damage onto the grabbed enemy. Enemy champion is immobilized for a few seconds when grabbed.\n",
    "         - Karma is a mage type support that can shield ally champions and **inflicts magic damage** with her energy beam that explodes.\n",
    "<img src=\"thresh-hook.png\" width=\"150\">\n",
    "<font color=steelblue><center>(An enemy champion grabbed by Thresh is immobilized)</center></font>\n",
    "<img src=\"karma-energy-expl.png\" width=\"150\">\n",
    "<font color=steelblue><center>(Karma's energy beam inflicting magic damage to an enemy champion)</center></font>\n",
    "\n",
    "- Now given the two different functions of the two champions, one champion's function may outweight the other, i.e. say for instance that Thresh may be a stronger pick than Karma in most cases, so the reasons why I am getting a rather similar average gold earned per match for Karma and Thresh may be the following:\n",
    "    - I may be **playing Karma better than Thresh** that the average gold earned per game is rather close to being equal. This means that I am more likely to win with Karma. (1)\n",
    "    - **Majority of the randomly sampled matches for Thresh were losing games** so the average amount of gold earned per match for Thresh were lower than the usual.\n",
    "    - Karma can obviously inflict more damage to enemy champions than Thresh, so **I might have had more kills than I would with Thresh matches** (Killing an enemy champion earns more gold than assissting in a kill).\n",
    "    \n",
    "    \n",
    "- **<font color=red>Remark on the winrates found above:</font>**\n",
    "    - Thresh winrate: $\\frac{7}{12} = 58.3$%\n",
    "    - Karma winrate: $\\frac{15}{30} = 50.0$%\n",
    "    - Despite the fact that I had a **higher winrate for Thresh**, I still had roughly equal average gold earned per match for both champions.\n",
    "    - Contrary to my claim in (1) above, I had a higher winrate for Thresh, so this means that I am not playing Karma better in a sense that I am more likely to win if I play her. This means that I am more likely to earn more gold playing Karma whether or not I lose when I play her.\n",
    "    - This could further support my claim above that Karma is indeed a champion that can earn money in each match since she can deal more damage, leading to making more kills.\n",
    "    -----"
   ]
  },
  {
   "cell_type": "markdown",
   "metadata": {},
   "source": [
    "###  We can also compute for the 95% Confidence Interval:\n",
    "\n",
    "Note the for\n",
    "\n",
    "mula for the $(1-\\alpha)100\\%$ CI is the following:\n",
    "\n",
    "$\\bar{D_i} \\pm t_{\\alpha/2, n-1} \\frac{S_d}{\\sqrt n}$ , where $\\bar{D_i}$ is the mean of the differences"
   ]
  },
  {
   "cell_type": "code",
   "execution_count": 56,
   "metadata": {},
   "outputs": [
    {
     "name": "stdout",
     "output_type": "stream",
     "text": [
      "95% CI of the differences in gold earned is :( -3340.974152212522 , 1814.807485545855 )\n"
     ]
    }
   ],
   "source": [
    "#import library for standard error, mean and t-stat\n",
    "from scipy.stats import sem, t\n",
    "from scipy import mean\n",
    "\n",
    "CI = 0.95\n",
    "n = len(data_diff)\n",
    "mean = mean(data_diff)\n",
    "se = sem(data_diff)\n",
    "x = se*t.ppf((1+CI)/2, n-1)\n",
    "\n",
    "#lower bound and upper bound\n",
    "lb = mean - x\n",
    "ub = mean + x\n",
    "\n",
    "print(\"95% CI of the differences in gold earned is :\" \"(\", lb, \",\" ,ub, \")\")"
   ]
  },
  {
   "cell_type": "markdown",
   "metadata": {},
   "source": [
    "The result above tells us that **95% of the time**, the difference in the average gold earned between Thresh and Karma (Thresh gold - Karma gold) ranges from -3,340.974 to 1,814.807.\n",
    "\n",
    "----"
   ]
  },
  {
   "cell_type": "markdown",
   "metadata": {},
   "source": [
    "## 4. Independent Populations: Means\n",
    "\n",
    "*<font color=red>Now we gather data from two independent populations.</font>*\n",
    "\n",
    "### **<font color=red>We seek to test whether the average amount of gold earned between two independent samples are different.</font>**\n",
    "\n",
    "\n",
    "\n",
    "<font color=green>**The following are the assumptions of the independent t-test:**</font>\n",
    " - <font color=green>Samples are randomly chosen and are independent</font>\n",
    " - <font color=green>Each sample is normally distributed, if not is offset by a large sample size (i.e. $n\\geq 30$)</font>\n",
    " - <font color=green>Two groups have equal variances</font>\n",
    " \n",
    "### <mark><font color=red>$H_0$(null hypothesis): average amount of gold earned between two players (on same champions) is different.</font></mark>\n",
    "\n",
    "**Check for independence:**\n",
    "- I have selected a summoner who is similar to my tier (Gold 4). The summoner's name goes by *Ikickmidgets* and I will draw data from his/her Karma matches. (This fact supports the fact that the samples are independent: random Karma matches from player A vs. random Karma matches from player B).\n",
    "- I thought that it might be interesting to compare how much average gold I earn per match compared to players who are placed at similar tiers.\n",
    "\n",
    "*<font color=red>Hence two samples are independent!</font>*\n",
    "\n",
    "**Some facts about tiers and ranked system in LoL:**\n",
    "- In LoL, ranked matches exist to place each players in different tiers to gauge how well he/she plays.\n",
    "- Below are the different tiers that exist in LoL:\n",
    "<img src=\"lol-tier-2019.jpeg\" width=\"600\">\n",
    "- The tiers range from **Iron** to **Challenger** from the left to the right. \n",
    "- A <font color=goldenrod>Gold tier</font> would be the **4th helmet** (4th starting from 1 instead of a 0) from the left.\n",
    "- Sub-tiers exist within each tiers where they are simply divided into 4 tiers from tier 1 to tier 4.\n",
    "    - I am Gold 4 tier at this time and if I do better, I would go up to Gold 3, Gold 2 and so on."
   ]
  },
  {
   "cell_type": "code",
   "execution_count": 57,
   "metadata": {},
   "outputs": [],
   "source": [
    "# Encrypted Account ID for summoner named \"Ikickmidgets\"\n",
    "encryptid = 'yRkTQs50EHSsxEZgVLWG8exbpXpOl8cJ4GI2s5bIhIHvmQ'\n",
    "\n",
    "# Retrieve data for ranked matches with Karma\n",
    "# Note champion id for Karma corresponds to an integer of 43\n",
    "matchlist_karma2 = watcher.match.matchlist_by_account(region, encryptid, champion = 43, queue = 420, season = 13)"
   ]
  },
  {
   "cell_type": "code",
   "execution_count": 58,
   "metadata": {
    "scrolled": true
   },
   "outputs": [
    {
     "name": "stdout",
     "output_type": "stream",
     "text": [
      "List of ranked solo match ID's are : ['3073860788', '3072815371', '3072263898', '3071275471', '3066393473', '3066291026', '3066261532', '3066253406', '3065445182', '3065437746', '3064547280', '3064176216', '3057854478', '3055448045', '3055417210', '3055222778', '3053017204', '3049823193', '3049802460', '3037792161', '3037777451', '3037785452', '3036974961', '3036884683', '3036878217', '3035471307', '3035444939', '3035406405', '3035398188', '3033778653', '3033731669', '3033189863', '3033051158', '3032479616', '3032467200', '3031659367', '3031670992', '3031642930', '3031587435', '3031135566', '3031124739', '3029618750', '3029072748', '3029059988', '3028897295', '3028864232', '3028734500', '3028717419', '3028536607', '3028523409', '3028499430', '3028486880', '3028469182', '2976268823', '2962087568']\n",
      "**************************************************\n",
      "**************************************************\n",
      "Number of matches are:  55 (Sample size = 55)\n"
     ]
    }
   ],
   "source": [
    "# loop to create a list of matchId's for Karma\n",
    "match_id = []\n",
    "for match in matchlist_karma2['matches']:\n",
    "    match_id.append(str(match['gameId']))\n",
    "\n",
    "print(\"List of ranked solo match ID's are :\", match_id)\n",
    "print(\"*\"*50)\n",
    "print(\"*\"*50)\n",
    "print(\"Number of matches are: \", len(match_id), \"(Sample size = 55)\")"
   ]
  },
  {
   "cell_type": "code",
   "execution_count": 60,
   "metadata": {},
   "outputs": [
    {
     "name": "stdout",
     "output_type": "stream",
     "text": [
      "Number of Wins with Karma is : 23 times\n"
     ]
    }
   ],
   "source": [
    "#Create an empty list for Karma match datum\n",
    "karma_matches2 = []\n",
    "\n",
    "#Loop to bin karma match datum\n",
    "for i in match_id:\n",
    "    karma_matches2.append(watcher.match.by_id(region, i))\n",
    "\n",
    "#loop to sort out 'participant' info for every match\n",
    "karma_result2 = []\n",
    "for match in karma_matches2:\n",
    "    karma_result2 += match['participants']\n",
    "    \n",
    "#loop to count the number of wins for every match\n",
    "a = 0\n",
    "for wins in karma_result2:\n",
    "    if wins['championId'] == 43 and wins['stats']['win'] == True:\n",
    "        a += 1\n",
    "print(\"Number of Wins with Karma is :\", a, \"times\")"
   ]
  },
  {
   "cell_type": "markdown",
   "metadata": {},
   "source": [
    "<font color=red>We Keep number of wins from investigation for now, as we will proceed to investigating on amount of gold earned per game.</font>"
   ]
  },
  {
   "cell_type": "code",
   "execution_count": 61,
   "metadata": {},
   "outputs": [
    {
     "name": "stdout",
     "output_type": "stream",
     "text": [
      "[7623, 7888, 11772, 10932, 7223, 7031, 10160, 7303, 5597, 4723, 10800, 9421, 5841, 9160, 14978, 809, 9897, 9701, 9229, 9078, 4633, 887, 5679, 11230, 5702, 9462, 12867, 14504, 8271, 6995, 9745, 7121, 7827, 6440, 9310, 9620, 8756, 7249, 9944, 11394, 11968, 7770, 4537, 8756, 9428, 5996, 10508, 7780, 6652, 9661, 8080, 5781, 11043, 8787, 12341]\n",
      "**************************************************\n",
      "**************************************************\n",
      "Number of Karma matches sampled for player Ikickmidgets is : 55\n"
     ]
    }
   ],
   "source": [
    "#loop to bin gold earned per match for Karma matches\n",
    "karma_gold_earned2 = []\n",
    "for gold in karma_result2:\n",
    "    if gold['championId'] == 43 and gold['stats']['goldEarned']:\n",
    "        karma_gold_earned2.append(gold['stats']['goldEarned'])\n",
    "\n",
    "print(karma_gold_earned2)\n",
    "print(\"*\"*50)\n",
    "print(\"*\"*50)\n",
    "print(\"Number of Karma matches sampled for player Ikickmidgets is :\", len(karma_gold_earned2))"
   ]
  },
  {
   "cell_type": "code",
   "execution_count": 62,
   "metadata": {
    "scrolled": true
   },
   "outputs": [
    {
     "data": {
      "text/html": [
       "<div>\n",
       "<style scoped>\n",
       "    .dataframe tbody tr th:only-of-type {\n",
       "        vertical-align: middle;\n",
       "    }\n",
       "\n",
       "    .dataframe tbody tr th {\n",
       "        vertical-align: top;\n",
       "    }\n",
       "\n",
       "    .dataframe thead th {\n",
       "        text-align: right;\n",
       "    }\n",
       "</style>\n",
       "<table border=\"1\" class=\"dataframe\">\n",
       "  <thead>\n",
       "    <tr style=\"text-align: right;\">\n",
       "      <th></th>\n",
       "      <th>Gold Earned per match (Me)</th>\n",
       "      <th>Gold Earned per match (Ikickmidgets)</th>\n",
       "    </tr>\n",
       "  </thead>\n",
       "  <tbody>\n",
       "    <tr>\n",
       "      <th>0</th>\n",
       "      <td>7407.0</td>\n",
       "      <td>7623</td>\n",
       "    </tr>\n",
       "    <tr>\n",
       "      <th>1</th>\n",
       "      <td>4986.0</td>\n",
       "      <td>7888</td>\n",
       "    </tr>\n",
       "    <tr>\n",
       "      <th>2</th>\n",
       "      <td>11596.0</td>\n",
       "      <td>11772</td>\n",
       "    </tr>\n",
       "    <tr>\n",
       "      <th>3</th>\n",
       "      <td>6944.0</td>\n",
       "      <td>10932</td>\n",
       "    </tr>\n",
       "    <tr>\n",
       "      <th>4</th>\n",
       "      <td>10531.0</td>\n",
       "      <td>7223</td>\n",
       "    </tr>\n",
       "    <tr>\n",
       "      <th>5</th>\n",
       "      <td>7710.0</td>\n",
       "      <td>7031</td>\n",
       "    </tr>\n",
       "    <tr>\n",
       "      <th>6</th>\n",
       "      <td>7196.0</td>\n",
       "      <td>10160</td>\n",
       "    </tr>\n",
       "    <tr>\n",
       "      <th>7</th>\n",
       "      <td>7133.0</td>\n",
       "      <td>7303</td>\n",
       "    </tr>\n",
       "    <tr>\n",
       "      <th>8</th>\n",
       "      <td>8085.0</td>\n",
       "      <td>5597</td>\n",
       "    </tr>\n",
       "    <tr>\n",
       "      <th>9</th>\n",
       "      <td>8136.0</td>\n",
       "      <td>4723</td>\n",
       "    </tr>\n",
       "    <tr>\n",
       "      <th>10</th>\n",
       "      <td>8346.0</td>\n",
       "      <td>10800</td>\n",
       "    </tr>\n",
       "    <tr>\n",
       "      <th>11</th>\n",
       "      <td>9737.0</td>\n",
       "      <td>9421</td>\n",
       "    </tr>\n",
       "    <tr>\n",
       "      <th>12</th>\n",
       "      <td>6988.0</td>\n",
       "      <td>5841</td>\n",
       "    </tr>\n",
       "    <tr>\n",
       "      <th>13</th>\n",
       "      <td>8319.0</td>\n",
       "      <td>9160</td>\n",
       "    </tr>\n",
       "    <tr>\n",
       "      <th>14</th>\n",
       "      <td>11943.0</td>\n",
       "      <td>14978</td>\n",
       "    </tr>\n",
       "    <tr>\n",
       "      <th>15</th>\n",
       "      <td>10050.0</td>\n",
       "      <td>809</td>\n",
       "    </tr>\n",
       "    <tr>\n",
       "      <th>16</th>\n",
       "      <td>5183.0</td>\n",
       "      <td>9897</td>\n",
       "    </tr>\n",
       "    <tr>\n",
       "      <th>17</th>\n",
       "      <td>9312.0</td>\n",
       "      <td>9701</td>\n",
       "    </tr>\n",
       "    <tr>\n",
       "      <th>18</th>\n",
       "      <td>10679.0</td>\n",
       "      <td>9229</td>\n",
       "    </tr>\n",
       "    <tr>\n",
       "      <th>19</th>\n",
       "      <td>5853.0</td>\n",
       "      <td>9078</td>\n",
       "    </tr>\n",
       "    <tr>\n",
       "      <th>20</th>\n",
       "      <td>6397.0</td>\n",
       "      <td>4633</td>\n",
       "    </tr>\n",
       "    <tr>\n",
       "      <th>21</th>\n",
       "      <td>5766.0</td>\n",
       "      <td>887</td>\n",
       "    </tr>\n",
       "    <tr>\n",
       "      <th>22</th>\n",
       "      <td>11597.0</td>\n",
       "      <td>5679</td>\n",
       "    </tr>\n",
       "    <tr>\n",
       "      <th>23</th>\n",
       "      <td>10424.0</td>\n",
       "      <td>11230</td>\n",
       "    </tr>\n",
       "    <tr>\n",
       "      <th>24</th>\n",
       "      <td>4816.0</td>\n",
       "      <td>5702</td>\n",
       "    </tr>\n",
       "    <tr>\n",
       "      <th>25</th>\n",
       "      <td>6549.0</td>\n",
       "      <td>9462</td>\n",
       "    </tr>\n",
       "    <tr>\n",
       "      <th>26</th>\n",
       "      <td>10107.0</td>\n",
       "      <td>12867</td>\n",
       "    </tr>\n",
       "    <tr>\n",
       "      <th>27</th>\n",
       "      <td>9603.0</td>\n",
       "      <td>14504</td>\n",
       "    </tr>\n",
       "    <tr>\n",
       "      <th>28</th>\n",
       "      <td>11195.0</td>\n",
       "      <td>8271</td>\n",
       "    </tr>\n",
       "    <tr>\n",
       "      <th>29</th>\n",
       "      <td>11676.0</td>\n",
       "      <td>6995</td>\n",
       "    </tr>\n",
       "    <tr>\n",
       "      <th>30</th>\n",
       "      <td>NaN</td>\n",
       "      <td>9745</td>\n",
       "    </tr>\n",
       "    <tr>\n",
       "      <th>31</th>\n",
       "      <td>NaN</td>\n",
       "      <td>7121</td>\n",
       "    </tr>\n",
       "    <tr>\n",
       "      <th>32</th>\n",
       "      <td>NaN</td>\n",
       "      <td>7827</td>\n",
       "    </tr>\n",
       "    <tr>\n",
       "      <th>33</th>\n",
       "      <td>NaN</td>\n",
       "      <td>6440</td>\n",
       "    </tr>\n",
       "    <tr>\n",
       "      <th>34</th>\n",
       "      <td>NaN</td>\n",
       "      <td>9310</td>\n",
       "    </tr>\n",
       "    <tr>\n",
       "      <th>35</th>\n",
       "      <td>NaN</td>\n",
       "      <td>9620</td>\n",
       "    </tr>\n",
       "    <tr>\n",
       "      <th>36</th>\n",
       "      <td>NaN</td>\n",
       "      <td>8756</td>\n",
       "    </tr>\n",
       "    <tr>\n",
       "      <th>37</th>\n",
       "      <td>NaN</td>\n",
       "      <td>7249</td>\n",
       "    </tr>\n",
       "    <tr>\n",
       "      <th>38</th>\n",
       "      <td>NaN</td>\n",
       "      <td>9944</td>\n",
       "    </tr>\n",
       "    <tr>\n",
       "      <th>39</th>\n",
       "      <td>NaN</td>\n",
       "      <td>11394</td>\n",
       "    </tr>\n",
       "    <tr>\n",
       "      <th>40</th>\n",
       "      <td>NaN</td>\n",
       "      <td>11968</td>\n",
       "    </tr>\n",
       "    <tr>\n",
       "      <th>41</th>\n",
       "      <td>NaN</td>\n",
       "      <td>7770</td>\n",
       "    </tr>\n",
       "    <tr>\n",
       "      <th>42</th>\n",
       "      <td>NaN</td>\n",
       "      <td>4537</td>\n",
       "    </tr>\n",
       "    <tr>\n",
       "      <th>43</th>\n",
       "      <td>NaN</td>\n",
       "      <td>8756</td>\n",
       "    </tr>\n",
       "    <tr>\n",
       "      <th>44</th>\n",
       "      <td>NaN</td>\n",
       "      <td>9428</td>\n",
       "    </tr>\n",
       "    <tr>\n",
       "      <th>45</th>\n",
       "      <td>NaN</td>\n",
       "      <td>5996</td>\n",
       "    </tr>\n",
       "    <tr>\n",
       "      <th>46</th>\n",
       "      <td>NaN</td>\n",
       "      <td>10508</td>\n",
       "    </tr>\n",
       "    <tr>\n",
       "      <th>47</th>\n",
       "      <td>NaN</td>\n",
       "      <td>7780</td>\n",
       "    </tr>\n",
       "    <tr>\n",
       "      <th>48</th>\n",
       "      <td>NaN</td>\n",
       "      <td>6652</td>\n",
       "    </tr>\n",
       "    <tr>\n",
       "      <th>49</th>\n",
       "      <td>NaN</td>\n",
       "      <td>9661</td>\n",
       "    </tr>\n",
       "    <tr>\n",
       "      <th>50</th>\n",
       "      <td>NaN</td>\n",
       "      <td>8080</td>\n",
       "    </tr>\n",
       "    <tr>\n",
       "      <th>51</th>\n",
       "      <td>NaN</td>\n",
       "      <td>5781</td>\n",
       "    </tr>\n",
       "    <tr>\n",
       "      <th>52</th>\n",
       "      <td>NaN</td>\n",
       "      <td>11043</td>\n",
       "    </tr>\n",
       "    <tr>\n",
       "      <th>53</th>\n",
       "      <td>NaN</td>\n",
       "      <td>8787</td>\n",
       "    </tr>\n",
       "    <tr>\n",
       "      <th>54</th>\n",
       "      <td>NaN</td>\n",
       "      <td>12341</td>\n",
       "    </tr>\n",
       "  </tbody>\n",
       "</table>\n",
       "</div>"
      ],
      "text/plain": [
       "    Gold Earned per match (Me)  Gold Earned per match (Ikickmidgets)\n",
       "0                       7407.0                                  7623\n",
       "1                       4986.0                                  7888\n",
       "2                      11596.0                                 11772\n",
       "3                       6944.0                                 10932\n",
       "4                      10531.0                                  7223\n",
       "5                       7710.0                                  7031\n",
       "6                       7196.0                                 10160\n",
       "7                       7133.0                                  7303\n",
       "8                       8085.0                                  5597\n",
       "9                       8136.0                                  4723\n",
       "10                      8346.0                                 10800\n",
       "11                      9737.0                                  9421\n",
       "12                      6988.0                                  5841\n",
       "13                      8319.0                                  9160\n",
       "14                     11943.0                                 14978\n",
       "15                     10050.0                                   809\n",
       "16                      5183.0                                  9897\n",
       "17                      9312.0                                  9701\n",
       "18                     10679.0                                  9229\n",
       "19                      5853.0                                  9078\n",
       "20                      6397.0                                  4633\n",
       "21                      5766.0                                   887\n",
       "22                     11597.0                                  5679\n",
       "23                     10424.0                                 11230\n",
       "24                      4816.0                                  5702\n",
       "25                      6549.0                                  9462\n",
       "26                     10107.0                                 12867\n",
       "27                      9603.0                                 14504\n",
       "28                     11195.0                                  8271\n",
       "29                     11676.0                                  6995\n",
       "30                         NaN                                  9745\n",
       "31                         NaN                                  7121\n",
       "32                         NaN                                  7827\n",
       "33                         NaN                                  6440\n",
       "34                         NaN                                  9310\n",
       "35                         NaN                                  9620\n",
       "36                         NaN                                  8756\n",
       "37                         NaN                                  7249\n",
       "38                         NaN                                  9944\n",
       "39                         NaN                                 11394\n",
       "40                         NaN                                 11968\n",
       "41                         NaN                                  7770\n",
       "42                         NaN                                  4537\n",
       "43                         NaN                                  8756\n",
       "44                         NaN                                  9428\n",
       "45                         NaN                                  5996\n",
       "46                         NaN                                 10508\n",
       "47                         NaN                                  7780\n",
       "48                         NaN                                  6652\n",
       "49                         NaN                                  9661\n",
       "50                         NaN                                  8080\n",
       "51                         NaN                                  5781\n",
       "52                         NaN                                 11043\n",
       "53                         NaN                                  8787\n",
       "54                         NaN                                 12341"
      ]
     },
     "execution_count": 62,
     "metadata": {},
     "output_type": "execute_result"
    }
   ],
   "source": [
    "data_me = {\"Gold Earned per match (Me)\": karma_gold_earned}\n",
    "data_Ikickmidgets = {\"Gold Earned per match (Ikickmidgets)\" : karma_gold_earned2}\n",
    "\n",
    "#turn into data frames\n",
    "data_me = pd.DataFrame(data = data_me)\n",
    "data_Ikickmidgets = pd.DataFrame(data = data_Ikickmidgets)\n",
    "\n",
    "#combine/concatenate two data frames into one\n",
    "data = pd.concat([data_me, data_Ikickmidgets], axis = 1)\n",
    "\n",
    "data"
   ]
  },
  {
   "cell_type": "code",
   "execution_count": 63,
   "metadata": {},
   "outputs": [
    {
     "data": {
      "image/png": "[encoded data removed]",
      "text/plain": [
       "<Figure size 432x288 with 1 Axes>"
      ]
     },
     "metadata": {},
     "output_type": "display_data"
    }
   ],
   "source": [
    "sns.set(style='whitegrid')\n",
    "ax = sns.boxplot(data = data)\n",
    "ax.set_title(\"Boxplot of Amount of gold earned (Me vs. Ikickmidgets)\", fontsize = 15);"
   ]
  },
  {
   "cell_type": "code",
   "execution_count": 65,
   "metadata": {
    "scrolled": false
   },
   "outputs": [
    {
     "data": {
      "image/png": "[encoded data removed]",
      "text/plain": [
       "<Figure size 432x288 with 1 Axes>"
      ]
     },
     "metadata": {},
     "output_type": "display_data"
    }
   ],
   "source": [
    "colors = ('blue', 'orange')\n",
    "\n",
    "#Plot histogram of the two samples\n",
    "ax1 = plt.hist([karma_gold_earned, karma_gold_earned2], histtype='bar', bins= 10, \n",
    "               label = ['me', 'Ikickmidgets'], density = True)\n",
    "#ax2 = plt.hist(karma_gold_earned2, histtype='bar', bins = 10, label = 'Ikickmidgets')\n",
    "\n",
    "#KDE Plot for Density curve\n",
    "ax3 = np.concatenate((karma_gold_earned, karma_gold_earned2))\n",
    "sns.kdeplot(ax3)\n",
    "\n",
    "plt.title(\"Histogram of the gold earend\", fontsize = 18);\n",
    "plt.legend()\n",
    "plt.show();"
   ]
  },
  {
   "cell_type": "markdown",
   "metadata": {},
   "source": [
    "<font color=red>We see from the histogram above that the samples are roughly normally distributed! We also assume equal variances.</font>"
   ]
  },
  {
   "cell_type": "code",
   "execution_count": 66,
   "metadata": {
    "scrolled": true
   },
   "outputs": [
    {
     "name": "stdout",
     "output_type": "stream",
     "text": [
      "t-statistic is : -0.008059614133441827 and the p-value is : 0.993588768356708\n"
     ]
    }
   ],
   "source": [
    "#Conduct independent t-test\n",
    "np.random.seed(2019)\n",
    "\n",
    "x = stats.ttest_ind(karma_gold_earned2, karma_gold_earned, equal_var = True)\n",
    "print(\"t-statistic is :\", x[0], \"and the p-value is :\", x[1])"
   ]
  },
  {
   "cell_type": "markdown",
   "metadata": {},
   "source": [
    "### **<font color=red>Insights:</font>**\n",
    "   - We see that the **p-value is too big** (almost close to a value of 1), so we **fail to reject the null hypothesis**. Hence we say that **<font color=red>the average amount of gold earend per match for the two players are equal</font>**.\n",
    "   - Again, we note that these randomly selected matches include **both winning and losing games**.\n",
    "   - **We cannot generalize that the average amount of gold earned per match when one plays Karma is identical**. All we can infer from this result is that **<mark>when I and *Ikickmidgets* play Karma, we earn similar amount of gold per match</mark>**.\n",
    " \n",
    "### **<font color=red>A Step further...</font>**\n",
    "- Insights from above may be a **clear implementation of the *tier system* in LoL**. Because I and *Ikcikmidgets* are in the same tier (*Ikickmidgets* might have ranked up/down after this project was written), it is quiet reasonable that we had similar average amount of gold per match for the Karma games. **This shows how the *LoL tier system* equally levels different players in different tiers based on how good each players are**.\n",
    "- The result above might also imply that me and *Ikickmidgets* happend to be the two players who **capitalize the same amount of money for each ranked matches when we play Karma**. This could further imply that **we both have similar play styles when we play Karma**, i.e. how aggressive/defensive we play. It could be that **we both play in an aggressive way**, so we capitalize by making more kill contributions to the team in general. Other case could also be possible where we both play defensively instead, making more assists rather than kills.\n",
    "\n",
    "<img src=\"karma-illust.jpg\" width=\"400\">\n",
    "<center><font color=steelblue>Karma</font></center>\n",
    "\n",
    "- **<font color=red>Remark on the winrates:</font>**\n",
    "    - My winrate when I play Karma: $\\frac{15}{30} = 50.0$%\n",
    "    - *Ikickmidgets'* winrate when he/she plays Karma: $\\frac{23}{55} = 41.8$%\n",
    "    - Despite the fact that we both had similar average amount of gold earned per match, **I had a higher winrate than *Ikickmidget*** when in came to winnning ranked matches (roughly 8%).\n",
    "    - This could mean that ***Ikickmidgets* was able to capitalize more gold than I did in each of the games**. This is because winning matches tend to have more gold earned compared to the losing team.\n",
    "    - Disgregarding the fact that we both had same average amount of gold earned per game, ***Ikickmidgets* is a player who earns more money in each ranked matches when she/he plays Karma**."
   ]
  },
  {
   "cell_type": "markdown",
   "metadata": {},
   "source": [
    "### Compute for the 95% Confidence Interval for independent samples:\n",
    "\n",
    "Note the formula for the $(1-\\alpha)100\\%$ CI is the following:\n",
    "\n",
    "\n",
    "$(\\bar{X}-\\bar{Y}) \\pm z_{\\alpha/2} \\sqrt{\\frac{\\sigma^2_{x}}{n} + \\frac{\\sigma^2_{y}}{m}}$"
   ]
  },
  {
   "cell_type": "code",
   "execution_count": 67,
   "metadata": {},
   "outputs": [
    {
     "name": "stdout",
     "output_type": "stream",
     "text": [
      "95% CI of average gold earned difference per game is : ( -4.061355485577344 , 13.540143364367516 ).\n"
     ]
    }
   ],
   "source": [
    "import math\n",
    "\n",
    "#calculate my avg gold earned\n",
    "my_mean = pd.DataFrame(karma_gold_earned)\n",
    "my_mean = my_mean.mean()\n",
    "\n",
    "#calculate Ikickmidget's avg gold earned\n",
    "Ikickmidgets_mean = pd.DataFrame(karma_gold_earned2)\n",
    "Ikickmidgets_mean = Ikickmidgets_mean.mean()\n",
    "\n",
    "#calculate for xbar - ybar\n",
    "diff = my_mean - Ikickmidgets_mean\n",
    "\n",
    "#calculate variance\n",
    "my_var = sem(karma_gold_earned)\n",
    "Ikickmidgets_var = sem(karma_gold_earned2)\n",
    "\n",
    "#sample sizes\n",
    "n = len(karma_gold_earned)\n",
    "m = len(karma_gold_earned2)\n",
    "\n",
    "z = stats.norm.ppf(0.975)\n",
    "\n",
    "se = math.sqrt((my_var/n)+(Ikickmidgets_var)/m)\n",
    "\n",
    "lb = diff - z*se\n",
    "lb = lb[0]\n",
    "ub = diff + z*se\n",
    "ub = ub[0]\n",
    "\n",
    "print(\"95% CI of average gold earned difference per game is : (\", lb, \",\", ub, \").\")"
   ]
  },
  {
   "cell_type": "markdown",
   "metadata": {},
   "source": [
    "The result above tells us that **95% of the time**, the difference in the average gold earned between Me and *Ikickmidgets* when we play Karma ranges from -4.06 to 13.54.\n",
    "\n",
    "----"
   ]
  },
  {
   "cell_type": "markdown",
   "metadata": {},
   "source": [
    "References:\n",
    "[Ezreal from LoL](https://na.leagueoflegends.com/en/game-info/champions/Ezreal/)\n",
    "[Karma from LoL](https://na.leagueoflegends.com/en/game-info/champions/Karma/)\n",
    "[Thresh from LoL](https://na.leagueoflegends.com/en/game-info/champions/Thresh/)\n",
    "[Heimerdinger from LoL](https://na.leagueoflegends.com/en/game-info/champions/Heimerdinger/)\n"
   ]
  }
 ],
 "metadata": {
  "kernelspec": {
   "display_name": "Python 3",
   "language": "python",
   "name": "python3"
  },
  "language_info": {
   "codemirror_mode": {
    "name": "ipython",
    "version": 3
   },
   "file_extension": ".py",
   "mimetype": "text/x-python",
   "name": "python",
   "nbconvert_exporter": "python",
   "pygments_lexer": "ipython3",
   "version": "3.7.1"
  }
 },
 "nbformat": 4,
 "nbformat_minor": 2
}
